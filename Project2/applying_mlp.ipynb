{
 "cells": [
  {
   "cell_type": "markdown",
   "id": "f20cf344",
   "metadata": {},
   "source": [
    "# Applying MLP\n",
    "\n",
    "#### 1a: Load and preprocess the dataset"
   ]
  },
  {
   "cell_type": "code",
   "execution_count": 1,
   "id": "d0b07f3a",
   "metadata": {},
   "outputs": [],
   "source": [
    "# Import packages and libraries\n",
    "import sys\n",
    "import numpy as np\n",
    "import os\n",
    "import pandas as pd\n",
    "import matplotlib.pyplot as plt\n",
    "from matplotlib.colors import ListedColormap\n",
    "from itertools import combinations"
   ]
  },
  {
   "cell_type": "code",
   "execution_count": null,
   "id": "854ccf81",
   "metadata": {},
   "outputs": [],
   "source": [
    "# Reading in the datasets\n",
    "file_path = 'data/project_adult.csv'\n",
    "file_path2 = 'data/project_validation_inputs.csv'\n",
    "\n",
    "# converting to dataframes\n",
    "df_adult = pd.read_csv(file_path, header=0, encoding='utf-8')\n",
    "df_validation = pd.read_csv(file_path2, header=0, encoding='utf-8')"
   ]
  },
  {
   "cell_type": "code",
   "execution_count": null,
   "id": "d1df5198",
   "metadata": {},
   "outputs": [],
   "source": [
    "# Preprocess the dataset: handle missing values, encode categorical features, standardize numerical features, \n",
    "# and separate features from target.\n",
    "def preprocess_data(df, target_column='income', fit_scaler=True, return_split=False, test_size=0.2, random_state=42):\n",
    "    \n",
    "    global trained_scaler\n",
    "    \n",
    "    print(f\"Original data shape: {df.shape}\")\n",
    "    print(f\"Original data columns: {df.columns.tolist()}\")\n",
    "\n",
    "    # Handle missing values - do not drop! \n",
    "    ########################################[ revisit this ]########################################\n",
    "    df.replace('?', np.nan, inplace=True)\n",
    "    \n",
    "    print(f\"After handling missing values shape: {df.shape}\")\n",
    "\n",
    "    # Keep track of rows indexes\n",
    "    df = df.reset_index(drop=True)\n",
    "\n",
    "    # SEPARATE X AND y ONLY IF target_column IS PROVIDED AND EXISTS\n",
    "    if target_column is not None and target_column in df.columns:\n",
    "        y = df[target_column]\n",
    "        X = df.drop(columns=[target_column])\n",
    "        print(f\"After separation - X shape: {X.shape}, y shape: {y.shape}\")\n",
    "    else:\n",
    "        X = df.copy()\n",
    "        y = None\n",
    "        print(f\"No target column specified or found. Using all columns as features. X shape: {X.shape}\")\n",
    "    \n",
    "    # Encode categorical features (only on X, not y)\n",
    "    categorical_cols = X.select_dtypes(include=['object']).columns\n",
    "    print(f\"Categorical columns to encode: {categorical_cols.tolist()}\")\n",
    "    \n",
    "    \n",
    "    X = pd.get_dummies(X, columns=categorical_cols, drop_first=True)\n",
    "    \n",
    "    print(f\"After encoding categorical features shape: {X.shape}\")\n",
    "\n",
    "    # Ensure all columns are numeric\n",
    "    for col in X.columns:\n",
    "        if X[col].dtype == 'object':\n",
    "            X[col] = pd.to_numeric(X[col], errors='coerce')\n",
    "    \n",
    "    # Fill any NaN values\n",
    "    X = X.fillna(0)\n",
    "\n",
    "    # NEW: global scaling for ALL features\n",
    "    if fit_scaler:\n",
    "        final_scaler = StandardScaler()\n",
    "        X = pd.DataFrame(final_scaler.fit_transform(X), columns=X.columns)\n",
    "    \n",
    "    print(f\"Final processed features shape: {X.shape}\")\n",
    "    \n",
    "    if return_split and y is not None:\n",
    "        # Split into train and test sets\n",
    "        X_train, X_test, y_train, y_test = train_test_split(\n",
    "            X, y, test_size=test_size, random_state=random_state, stratify=y\n",
    "        )\n",
    "        print(f\"Train/test split - X_train: {X_train.shape}, X_test: {X_test.shape}\")\n",
    "        return X_train, X_test, y_train, y_test\n",
    "    elif return_split and y is None:\n",
    "        raise ValueError(\"Cannot return split when no target column is available\")\n",
    "    else:\n",
    "        if y is not None:\n",
    "            return X, y\n",
    "        else:\n",
    "            return X  # Return only X if no target column"
   ]
  },
  {
   "cell_type": "markdown",
   "id": "2d45c55f",
   "metadata": {},
   "source": [
    "#### 1b: Train and test MLP model on dataset while tunning parameters to develop multiple candidates\n",
    "#### 1c: Evaluate models using appropriate metrics"
   ]
  }
 ],
 "metadata": {
  "kernelspec": {
   "display_name": "geoenv",
   "language": "python",
   "name": "python3"
  },
  "language_info": {
   "codemirror_mode": {
    "name": "ipython",
    "version": 3
   },
   "file_extension": ".py",
   "mimetype": "text/x-python",
   "name": "python",
   "nbconvert_exporter": "python",
   "pygments_lexer": "ipython3",
   "version": "3.11.5"
  }
 },
 "nbformat": 4,
 "nbformat_minor": 5
}
